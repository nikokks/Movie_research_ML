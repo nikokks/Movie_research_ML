{
 "cells": [
  {
   "cell_type": "code",
   "execution_count": null,
   "metadata": {},
   "outputs": [
    {
     "name": "stdout",
     "output_type": "stream",
     "text": [
      "Collecting faiss-gpu\n",
      "  Downloading faiss_gpu-1.7.1.post2-cp38-cp38-manylinux_2_17_x86_64.manylinux2014_x86_64.whl (89.7 MB)\n",
      "\u001b[K     |████████████████▊               | 47.0 MB 7.8 MB/s eta 0:00:06"
     ]
    }
   ],
   "source": [
    "# conda activate xbert-env\n",
    "#!pip install sentence-transformers\n",
    "!pip install faiss-gpu"
   ]
  },
  {
   "cell_type": "code",
   "execution_count": 2,
   "metadata": {
    "scrolled": true
   },
   "outputs": [
    {
     "name": "stdout",
     "output_type": "stream",
     "text": [
      "Requirement already satisfied: sentence_transformers in /home/nikokks/.local/lib/python3.8/site-packages (1.2.0)\n",
      "Requirement already satisfied: nltk in /home/nikokks/.local/lib/python3.8/site-packages (from sentence_transformers) (3.6.2)\n",
      "Requirement already satisfied: torch>=1.6.0 in /home/nikokks/.local/lib/python3.8/site-packages (from sentence_transformers) (1.9.0)\n",
      "Requirement already satisfied: numpy in /usr/local/lib/python3.8/dist-packages (from sentence_transformers) (1.19.5)\n",
      "Requirement already satisfied: torchvision in /home/nikokks/.local/lib/python3.8/site-packages (from sentence_transformers) (0.10.0)\n",
      "Requirement already satisfied: scikit-learn in /home/nikokks/.local/lib/python3.8/site-packages (from sentence_transformers) (0.23.2)\n",
      "Requirement already satisfied: tqdm in /usr/local/lib/python3.8/dist-packages (from sentence_transformers) (4.56.0)\n",
      "Requirement already satisfied: transformers<5.0.0,>=3.1.0 in /home/nikokks/.local/lib/python3.8/site-packages (from sentence_transformers) (4.7.0)\n",
      "Requirement already satisfied: scipy in /usr/local/lib/python3.8/dist-packages (from sentence_transformers) (1.6.0)\n",
      "Requirement already satisfied: sentencepiece in /home/nikokks/.local/lib/python3.8/site-packages (from sentence_transformers) (0.1.96)\n",
      "Requirement already satisfied: joblib in /home/nikokks/.local/lib/python3.8/site-packages (from nltk->sentence_transformers) (1.0.0)\n",
      "Requirement already satisfied: click in /usr/lib/python3/dist-packages (from nltk->sentence_transformers) (7.0)\n",
      "Requirement already satisfied: regex in /home/nikokks/.local/lib/python3.8/site-packages (from nltk->sentence_transformers) (2021.4.4)\n",
      "Requirement already satisfied: typing-extensions in /home/nikokks/.local/lib/python3.8/site-packages (from torch>=1.6.0->sentence_transformers) (3.7.4.3)\n",
      "Requirement already satisfied: pillow>=5.3.0 in /usr/lib/python3/dist-packages (from torchvision->sentence_transformers) (7.0.0)\n",
      "Requirement already satisfied: threadpoolctl>=2.0.0 in /home/nikokks/.local/lib/python3.8/site-packages (from scikit-learn->sentence_transformers) (2.1.0)\n",
      "Requirement already satisfied: tokenizers<0.11,>=0.10.1 in /home/nikokks/.local/lib/python3.8/site-packages (from transformers<5.0.0,>=3.1.0->sentence_transformers) (0.10.3)\n",
      "Requirement already satisfied: filelock in /home/nikokks/.local/lib/python3.8/site-packages (from transformers<5.0.0,>=3.1.0->sentence_transformers) (3.0.12)\n",
      "Requirement already satisfied: requests in /usr/lib/python3/dist-packages (from transformers<5.0.0,>=3.1.0->sentence_transformers) (2.22.0)\n",
      "Requirement already satisfied: sacremoses in /home/nikokks/.local/lib/python3.8/site-packages (from transformers<5.0.0,>=3.1.0->sentence_transformers) (0.0.45)\n",
      "Requirement already satisfied: packaging in /home/nikokks/.local/lib/python3.8/site-packages (from transformers<5.0.0,>=3.1.0->sentence_transformers) (20.8)\n",
      "Requirement already satisfied: huggingface-hub==0.0.8 in /home/nikokks/.local/lib/python3.8/site-packages (from transformers<5.0.0,>=3.1.0->sentence_transformers) (0.0.8)\n",
      "Requirement already satisfied: pyyaml in /usr/lib/python3/dist-packages (from transformers<5.0.0,>=3.1.0->sentence_transformers) (5.3.1)\n",
      "Requirement already satisfied: six in /home/nikokks/.local/lib/python3.8/site-packages (from sacremoses->transformers<5.0.0,>=3.1.0->sentence_transformers) (1.15.0)\n",
      "Requirement already satisfied: pyparsing>=2.0.2 in /home/nikokks/.local/lib/python3.8/site-packages (from packaging->transformers<5.0.0,>=3.1.0->sentence_transformers) (2.4.7)\n",
      "Note: you may need to restart the kernel to use updated packages.\n"
     ]
    }
   ],
   "source": [
    "pip install sentence_transformers"
   ]
  },
  {
   "cell_type": "code",
   "execution_count": 5,
   "metadata": {
    "scrolled": false
   },
   "outputs": [
    {
     "name": "stdout",
     "output_type": "stream",
     "text": [
      "Collecting pandas\n",
      "  Using cached pandas-1.1.5-cp36-cp36m-manylinux1_x86_64.whl (9.5 MB)\n",
      "Requirement already satisfied: python-dateutil>=2.7.3 in /home/nikokks/anaconda3/envs/xbert-env/lib/python3.6/site-packages (from pandas) (2.8.1)\n",
      "Requirement already satisfied: pytz>=2017.2 in /home/nikokks/anaconda3/envs/xbert-env/lib/python3.6/site-packages (from pandas) (2021.1)\n",
      "Requirement already satisfied: numpy>=1.15.4 in /home/nikokks/anaconda3/envs/xbert-env/lib/python3.6/site-packages (from pandas) (1.19.2)\n",
      "Requirement already satisfied: six>=1.5 in /home/nikokks/anaconda3/envs/xbert-env/lib/python3.6/site-packages (from python-dateutil>=2.7.3->pandas) (1.15.0)\n",
      "Installing collected packages: pandas\n",
      "Successfully installed pandas-1.1.5\n"
     ]
    }
   ],
   "source": [
    "!pip install pandas"
   ]
  },
  {
   "cell_type": "code",
   "execution_count": 3,
   "metadata": {},
   "outputs": [],
   "source": [
    "import pandas as pd\n",
    "df= pd.read_csv('wiki_movie_plots_deduped.csv')"
   ]
  },
  {
   "cell_type": "code",
   "execution_count": 17,
   "metadata": {
    "scrolled": false
   },
   "outputs": [],
   "source": [
    "import os\n",
    "from sentence_transformers import SentenceTransformer\n",
    "os.environ['TORCH_HOME'] = 'models/' #setting the environment variable\n",
    "\n",
    "model = SentenceTransformer('models/sentence_transformers/sbert.net_models_msmarco-distilbert-base-dot-prod-v3').to('cuda')"
   ]
  },
  {
   "cell_type": "code",
   "execution_count": 9,
   "metadata": {},
   "outputs": [],
   "source": [
    "import faiss\n",
    "encoded_data = model.encode(df.Plot.tolist())"
   ]
  },
  {
   "cell_type": "code",
   "execution_count": 10,
   "metadata": {},
   "outputs": [],
   "source": [
    "import numpy as np\n",
    "import faiss\n",
    "\n",
    "encoded_data = np.asarray(encoded_data.astype('float32'))\n",
    "index = faiss.IndexIDMap(faiss.IndexFlatIP(768))\n",
    "index.add_with_ids(encoded_data, np.array(range(0, len(df))))\n",
    "faiss.write_index(index, 'movie_plot.index')"
   ]
  },
  {
   "cell_type": "code",
   "execution_count": 11,
   "metadata": {},
   "outputs": [],
   "source": [
    "def fetch_movie_info(dataframe_idx):\n",
    "    info = df.iloc[dataframe_idx]\n",
    "    meta_dict = dict()\n",
    "    meta_dict['Title'] = info['Title']\n",
    "    meta_dict['Plot'] = info['Plot'][:500]\n",
    "    return meta_dict\n",
    "    \n",
    "def search(query, top_k, index, model):\n",
    "    t=time.time()\n",
    "    query_vector = model.encode([query])\n",
    "    top_k = index.search(query_vector, top_k)\n",
    "    print('>>>> Results in Total Time: {}'.format(time.time()-t))\n",
    "    top_k_ids = top_k[1].tolist()[0]\n",
    "    top_k_ids = list(np.unique(top_k_ids))\n",
    "    results =  [fetch_movie_info(idx) for idx in top_k_ids]\n",
    "    return results"
   ]
  },
  {
   "cell_type": "code",
   "execution_count": 13,
   "metadata": {},
   "outputs": [
    {
     "name": "stdout",
     "output_type": "stream",
     "text": [
      ">>>> Results in Total Time: 0.030264854431152344\n",
      "\n",
      "\n",
      "\t {'Title': 'The Cape Canaveral Monsters', 'Plot': \"As the film opens, two mysterious white circles are moving about on a solid black background. As they move, a woman's voice says they must obtain human bodies to carry out their mission.\\r\\nLive action then begins with a man and woman leaving a beach near Cape Canaveral, Florida. The circles descend on them, causing their car to crash. Both are killed. But their bodies suddenly jerk back to life as they're taken over by the white circles, which are actually extraterrestrials. The woman's face is b\"}\n",
      "\t {'Title': 'Small Soldiers', 'Plot': 'Top defense contractor GloboTech Industries acquires the Heartland Toy Company and as part of the move, Globotech CEO Gil Mars tells Heartland toy designers Larry Benson and Irwin Wayfair to develop actual live-action toys capable of \"playing back\". Mars selects Larry\\'s antagonistic, action figures, the Commando Elite, for the project and Irwin\\'s protagonistic, educational toys, the Gorgonites, for their enemies, with the toy line expected to hit the market in three months. Faced with such a tig'}\n",
      "\t {'Title': 'Universal Soldier: The Return', 'Plot': 'Seven years after the events in the first film, Luc Deveraux (Jean-Claude Van Damme), now an ordinary human after having had his cybernetic implants removed, is a technical expert who is working for the US government with his partner Maggie (Kiana Tom), who has been through countless hours of combat training with him. They work to refine and perfect the UniSol program in an effort to make a new, stronger breed of soldier that is more sophisticated and intelligent to reduce the use of normal, hum'}\n",
      "\t {'Title': 'The Darwin Awards', 'Plot': 'The film opens with a car with a JATO rocket strapped to it. The movie then shifts to Michael Burrows, a criminal profiler for the San Francisco Police Department. Shot in documentary style, the film is ostensibly a dissertation by a film school grad that follows Michael throughout the story. Fired from the police force after his hematophobia allows a serial killer to get away, Michael wallows in a deep depression for several weeks before coming up with a way to combine his Darwin Awards obsessi'}\n",
      "\t {'Title': ' G-Force', 'Plot': \"The film revolves around a special team of trained secret agent animals, equipped with advanced tools that allows the mammalian members to talk to humans. The primary field team consists of guinea pigs Darwin, Blaster, and Juarez, star-nosed mole Speckles (cyber intelligence), and housefly Mooch (Reconnaissance). The unit's leader Ben, orders an unauthorized infiltration of the residence of home electronics and appliances magnate, Leonard Saber, the owner of Saberling Industries, who has been un\"}\n",
      "\t {'Title': 'Chappie', 'Plot': \"A skyrocketing crime rate leads the city of Johannesburg, South Africa to buy a squadron of scouts—state-of-the-art armour-plated attack robots—from weapons manufacturer Tetravaal. These autonomous androids are developed by British scientist Deon Wilson and largely supplant the overwhelmed human police force. A competing project within the company is the remotely controlled MOOSE, developed by Australian soldier-turned-engineer Vincent Moore. Deon is praised for Tetravaal's success but Vincent g\"}\n",
      "\t {'Title': 'Armed Response', 'Plot': 'A team of trained operatives find themselves trapped inside an isolated military compound after its artificial intelligence is suddenly shut down. There, they begin to experience strange and horrific phenomena as they attempt to uncover what killed the previous team.'}\n",
      "\t {'Title': 'Arjun — Kalimpong E Sitaharan', 'Plot': 'Arjun is a sleuth cum science fiction character of Jalpaiguri created by famous Bengali writer Samaresh Majumdar for young children.[3] He wrote many stories in the Arjun series, namely Arjun Ebaar Kolkata-e, Arjun Beriye Elo, Arjun@bipbip.com and many more. This film is the first of the Arjun series based on Sitaharan Rahasya and Khunkharapi.[1] In the film, Arjun (Om) is seen solving a case with the help of his mentor and guide, Amol Shome (Sabyasachi Chakraborty) in Kalimpong. He is portrayed'}\n",
      "\t {'Title': 'Commando', 'Plot': 'Commando is an action film in the genre of James Bond movies, featuring choreographed stunts and songs. This film was released three years after the American film Commando was released starring Arnold Schwarzenegger. The ending sequence was lifted from Where Eagles Dare. The film was also inspired by the first American Ninja film, with a number of scenes and characters lifted from the film.'}\n",
      "\t {'Title': 'Galactic Armored Fleet Majestic Prince: Genetic Awakening', 'Plot': 'In the year 2110, humanity has expanded its frontier into space in its drive for new resources. Advances in genetic engineering research led to the establishment of the MJP (Military Junior Pre-Academy) project, which saw the creation of genetically enhanced humans known as the Evolved Children, developed with the intention of allowing humans to adapt to the new frontier. However, when Earth finds itself under threat by an alien race called the Wulgaru, human forces decide to have the evolved ch'}\n"
     ]
    }
   ],
   "source": [
    "from pprint import pprint\n",
    "import time\n",
    "query=\"Artificial Intelligence based action movie\"\n",
    "results=search(query, top_k=10, index=index, model=model)\n",
    "print(\"\\n\")\n",
    "for result in results:\n",
    "    print('\\t',result)"
   ]
  },
  {
   "cell_type": "code",
   "execution_count": 12,
   "metadata": {},
   "outputs": [
    {
     "name": "stdout",
     "output_type": "stream",
     "text": [
      ">>>> Results in Total Time: 0.010796546936035156\n",
      "\n",
      "\n",
      "\t {'Title': 'The Cape Canaveral Monsters', 'Plot': \"As the film opens, two mysterious white circles are moving about on a solid black background. As they move, a woman's voice says they must obtain human bodies to carry out their mission.\\r\\nLive action then begins with a man and woman leaving a beach near Cape Canaveral, Florida. The circles descend on them, causing their car to crash. Both are killed. But their bodies suddenly jerk back to life as they're taken over by the white circles, which are actually extraterrestrials. The woman's face is b\"}\n",
      "\t {'Title': 'Small Soldiers', 'Plot': 'Top defense contractor GloboTech Industries acquires the Heartland Toy Company and as part of the move, Globotech CEO Gil Mars tells Heartland toy designers Larry Benson and Irwin Wayfair to develop actual live-action toys capable of \"playing back\". Mars selects Larry\\'s antagonistic, action figures, the Commando Elite, for the project and Irwin\\'s protagonistic, educational toys, the Gorgonites, for their enemies, with the toy line expected to hit the market in three months. Faced with such a tig'}\n",
      "\t {'Title': 'Chappie', 'Plot': \"A skyrocketing crime rate leads the city of Johannesburg, South Africa to buy a squadron of scouts—state-of-the-art armour-plated attack robots—from weapons manufacturer Tetravaal. These autonomous androids are developed by British scientist Deon Wilson and largely supplant the overwhelmed human police force. A competing project within the company is the remotely controlled MOOSE, developed by Australian soldier-turned-engineer Vincent Moore. Deon is praised for Tetravaal's success but Vincent g\"}\n",
      "\t {'Title': 'Armed Response', 'Plot': 'A team of trained operatives find themselves trapped inside an isolated military compound after its artificial intelligence is suddenly shut down. There, they begin to experience strange and horrific phenomena as they attempt to uncover what killed the previous team.'}\n",
      "\t {'Title': 'Galactic Armored Fleet Majestic Prince: Genetic Awakening', 'Plot': 'In the year 2110, humanity has expanded its frontier into space in its drive for new resources. Advances in genetic engineering research led to the establishment of the MJP (Military Junior Pre-Academy) project, which saw the creation of genetically enhanced humans known as the Evolved Children, developed with the intention of allowing humans to adapt to the new frontier. However, when Earth finds itself under threat by an alien race called the Wulgaru, human forces decide to have the evolved ch'}\n"
     ]
    }
   ],
   "source": [
    "from pprint import pprint\n",
    "import time\n",
    "query=\"Artificial Intelligence based action movie\"\n",
    "results=search(query, top_k=5, index=index, model=model)\n",
    "print(\"\\n\")\n",
    "for result in results:\n",
    "    print('\\t',result)"
   ]
  },
  {
   "cell_type": "code",
   "execution_count": null,
   "metadata": {},
   "outputs": [],
   "source": []
  }
 ],
 "metadata": {
  "kernelspec": {
   "display_name": "Python 3",
   "language": "python",
   "name": "python3"
  },
  "language_info": {
   "codemirror_mode": {
    "name": "ipython",
    "version": 3
   },
   "file_extension": ".py",
   "mimetype": "text/x-python",
   "name": "python",
   "nbconvert_exporter": "python",
   "pygments_lexer": "ipython3",
   "version": "3.6.13"
  }
 },
 "nbformat": 4,
 "nbformat_minor": 4
}
